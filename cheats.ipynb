{
 "cells": [
  {
   "cell_type": "code",
   "execution_count": null,
   "metadata": {},
   "outputs": [],
   "source": [
    "# Mount google drive\n",
    "from google.colab import drive\n",
    "drive.mount('/content/drive')"
   ]
  },
  {
   "cell_type": "code",
   "execution_count": null,
   "metadata": {},
   "outputs": [],
   "source": [
    "# Read CSV files using pandas\n",
    "dataset = pd.read_csv('file path')"
   ]
  },
  {
   "cell_type": "code",
   "execution_count": null,
   "metadata": {},
   "outputs": [],
   "source": [
    "# read text file\n",
    "with open(\"file_path\", \"r\") as file1:\n",
    "    FileContent = file1.read()\n",
    "    print(FileContent)"
   ]
  },
  {
   "cell_type": "code",
   "execution_count": null,
   "metadata": {},
   "outputs": [],
   "source": [
    "# read json file\n",
    "with open(\"file_path\", \"r\") as fin:\n",
    "    for json_line in fin:\n",
    "      json_dict = json.loads(json_line.strip())"
   ]
  },
  {
   "cell_type": "code",
   "execution_count": null,
   "metadata": {},
   "outputs": [],
   "source": [
    "# display confusion matrix\n",
    "\n",
    "from sklearn.metrics import (\n",
    "    ConfusionMatrixDisplay, confusion_matrix, \n",
    "    classification_report, accuracy_score\n",
    ")\n",
    "\n",
    "def plot_confusion_matrix(ytrue, ypreds, labels):\n",
    "  cm = confusion_matrix(ytrue, ypreds, normalize=\"true\")\n",
    "  fig, ax = plt.subplots(figsize=(15, 15))\n",
    "  disp = ConfusionMatrixDisplay(confusion_matrix=cm, display_labels=labels)\n",
    "  disp.plot(cmap=\"Blues\", values_format=\"0.2f\", ax=ax, colorbar=False)\n",
    "  plt.title(\"Normalized Confusion Matrix\")\n",
    "  fig.set_size_inches(18.5, 45)\n",
    "  _ = plt.show()\n",
    "\n",
    "\n",
    "plot_confusion_matrix(ytrue, ypred, ml)"
   ]
  }
 ],
 "metadata": {
  "language_info": {
   "name": "python"
  },
  "orig_nbformat": 4
 },
 "nbformat": 4,
 "nbformat_minor": 2
}
